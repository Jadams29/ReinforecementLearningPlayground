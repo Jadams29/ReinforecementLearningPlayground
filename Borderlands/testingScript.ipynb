{
 "cells": [
  {
   "cell_type": "code",
   "execution_count": 8,
   "metadata": {},
   "outputs": [],
   "source": [
    "import cv2\n",
    "import os\n",
    "import numpy as np\n",
    "from PIL import Image\n",
    "import re\n",
    "import pytesseract\n",
    "from pytesseract import image_to_string"
   ]
  },
  {
   "cell_type": "code",
   "execution_count": null,
   "metadata": {},
   "outputs": [],
   "source": [
    "mser = cv2.MSER_create()"
   ]
  },
  {
   "cell_type": "code",
   "execution_count": 16,
   "metadata": {},
   "outputs": [],
   "source": [
    "image = cv2.imread(\"temp.png\")\n",
    "grayImage = cv2.cvtColor(image, cv2.COLOR_BGR2GRAY)"
   ]
  },
  {
   "cell_type": "code",
   "execution_count": 13,
   "metadata": {},
   "outputs": [],
   "source": [
    "originalDimensions = (1056, 1936)\n",
    "# Load Current Score Template\n",
    "currentScoreTemplate = cv2.imread(f\"./Data/Templates/currentScore.png\", 0)\n",
    "\n",
    "# Load Target Score Template\n",
    "targetScoreTemplate = cv2.imread(\"./Data/Templates/targetScore.png.png\", 0)\n",
    "\n",
    "# Load High Score Template\n",
    "highScoreTemplate = cv2.imread(\"./Data/Templates/highScore.png.png\", 0)\n",
    "\n",
    "CurrentFrame = cv2.imread(\"temp.png\")"
   ]
  },
  {
   "cell_type": "code",
   "execution_count": 14,
   "metadata": {},
   "outputs": [],
   "source": [
    "cv2.imshow(\"img\", currentScoreTemplate)\n",
    "cv2.waitKey(0)\n",
    "cv2.destroyAllWindows()"
   ]
  },
  {
   "cell_type": "code",
   "execution_count": null,
   "metadata": {},
   "outputs": [],
   "source": [
    "img_rgb = np.copy(CurrentFrame)\n",
    "\n",
    "# Store width and height of template in w and h\n",
    "w, h = currentScoreTemplate.shape[::-1]\n",
    " \n",
    "# Perform match operations.\n",
    "res = cv2.matchTemplate(grayImage,currentScoreTemplate,cv2.TM_CCOEFF_NORMED)\n",
    " \n",
    "# Specify a threshold\n",
    "threshold = 0.8\n",
    " \n",
    "# Store the coordinates of matched area in a numpy array\n",
    "loc = np.where( res >= threshold)\n",
    " \n",
    "# Draw a rectangle around the matched region.\n",
    "for pt in zip(*loc[::-1]):\n",
    "    cv2.rectangle(img_rgb, pt, (pt[0] + w, pt[1] + h), (0,255,255), 2)\n",
    " \n",
    "# Show the final image with the matched area.\n",
    "cv2.imshow('Detected',img_rgb)\n",
    "cv2.waitKey(0)\n",
    "cv2.destroyAllWindows()"
   ]
  }
 ],
 "metadata": {
  "kernelspec": {
   "display_name": "Python 3",
   "language": "python",
   "name": "python3"
  },
  "language_info": {
   "codemirror_mode": {
    "name": "ipython",
    "version": 3
   },
   "file_extension": ".py",
   "mimetype": "text/x-python",
   "name": "python",
   "nbconvert_exporter": "python",
   "pygments_lexer": "ipython3",
   "version": "3.7.10"
  }
 },
 "nbformat": 4,
 "nbformat_minor": 1
}
